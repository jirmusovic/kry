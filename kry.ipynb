{
 "cells": [
  {
   "cell_type": "code",
   "execution_count": 5,
   "metadata": {},
   "outputs": [
    {
     "name": "stdout",
     "output_type": "stream",
     "text": [
      "ZP0: sleidvnaapataaacveomjixtefaxtoynamxizlnxmtromoatentursohifne\n",
      "ZP1: collaoirtiasxnloetksiuxaeuexednlnnxndmkxtibdnopncjoanraeekea\n",
      "ZP2: yn0yxonmkx0txneurxrecixttspxvaaoerxsuvixryxyajdxhpdvibxnrxnk\n",
      "ZP3: tjpnzninleoibuliilkcapibaijayerdtenoncervaranlnscecaanthvhao\n",
      "ZP4: ahedegtujimnnnojelisjyxsdjtxllekekxvieoykyshmlhpinsionocabcy\n",
      "ZP5: tnenpyeumomeesnjarsvrrxyooraeakzbpxmlevdnitnrkynaieaecenpsre\n",
      "ZP6: mkvabttnetypiioonaputrxubytnaucrsvilosolamsvnbknezoiraamezea\n",
      "ZP7: ssycamlhepjevivnlraaoaxnhdanteennnoocekectiygsrptsnneirkivpo\n"
     ]
    }
   ],
   "source": [
    "import json\n",
    "\n",
    "def load_codebook(filename):\n",
    "    \"\"\"Načte codebook ze souboru JSON.\"\"\"\n",
    "    with open(filename, \"r\", encoding=\"utf-8\") as f:\n",
    "        return json.load(f)\n",
    "\n",
    "def decrypt_sector(encrypted_data, sector_data):\n",
    "    \"\"\"Převede šifrovaná data na čitelný text pomocí daného sektoru.\"\"\"\n",
    "    return \"\".join(sector_data.get(code, \"?\") for code in encrypted_data)\n",
    "\n",
    "\n",
    "# Načtení codebooku\n",
    "codebook = load_codebook(\"codebook.json\")\n",
    "\n",
    "# Definování šifrovaných bloků\n",
    "encrypted_blocks = {\n",
    "    \"ZP0\": [\"x17\", \"x37\", \"x31\", \"x00\", \"x05\", \"x26\", \"x56\", \"x08\", \"x23\", \"x50\", \"x57\", \"x08\", \"x50\", \"x52\", \"x26\", \"x31\", \"x47\", \"x30\", \"x09\", \"x00\", \"x39\", \"x57\", \"x31\", \"x48\", \"x50\", \"x39\", \"x57\", \"x47\", \"x06\", \"x56\", \"x50\", \"x30\", \"x39\", \"x00\", \"x41\", \"x37\", \"x56\", \"x39\", \"x30\", \"x57\", \"x01\", \"x47\", \"x30\", \"x47\", \"x50\", \"x57\", \"x31\", \"x56\", \"x57\", \"x12\", \"x01\", \"x17\", \"x47\", \"x02\", \"x00\", \"x48\", \"x56\", \"x31\"],\n",
    "    \"ZP1\": [\"x52\", \"x47\", \"x07\", \"x50\", \"x47\", \"x00\", \"x01\", \"x57\", \"x00\", \"x50\", \"x17\", \"x39\", \"x56\", \"x37\", \"x47\", \"x31\", \"x57\", \"x42\", \"x17\", \"x00\", \"x12\", \"x39\", \"x50\", \"x31\", \"x12\", \"x31\", \"x39\", \"x31\", \"x05\", \"x56\", \"x37\", \"x18\", \"x39\", \"x56\", \"x05\", \"x30\", \"x42\", \"x39\", \"x57\", \"x00\", \"x36\", \"x05\", \"x56\", \"x47\", \"x23\", \"x56\", \"x52\", \"x09\", \"x47\", \"x50\", \"x56\", \"x01\", \"x50\", \"x61\", \"x42\", \"x31\", \"x50\"],\n",
    "    \"ZP2\": [\"x06\", \"x56\", \"x35\", \"x06\", \"x39\", \"x47\", \"x56\", \"x30\", \"x42\", \"x39\", \"x35\", \"x57\", \"x39\", \"x56\", \"x31\", \"x12\", \"x01\", \"x39\", \"x01\", \"x31\", \"x52\", \"x00\", \"x39\", \"x43\", \"x17\", \"x23\", \"x39\", \"x26\", \"x08\", \"x47\", \"x31\", \"x01\", \"x39\", \"x17\", \"x12\", \"x26\", \"x00\", \"x39\", \"x01\", \"x06\", \"x39\", \"x06\", \"x50\", \"x09\", \"x05\", \"x39\", \"x02\", \"x23\", \"x05\", \"x26\", \"x00\", \"x36\", \"x39\", \"x56\", \"x01\", \"x39\", \"x56\", \"x42\"],\n",
    "    \"ZP3\": [\"x57\", \"x09\", \"x23\", \"x56\", \"x41\", \"x56\", \"x00\", \"x56\", \"x37\", \"x31\", \"x47\", \"x00\", \"x36\", \"x12\", \"x37\", \"x44\", \"x37\", \"x42\", \"x52\", \"x50\", \"x23\", \"x00\", \"x36\", \"x50\", \"x00\", \"x09\", \"x50\", \"x06\", \"x31\", \"x01\", \"x05\", \"x57\", \"x31\", \"x56\", \"x47\", \"x56\", \"x52\", \"x31\", \"x01\", \"x26\", \"x50\", \"x01\", \"x50\", \"x56\", \"x37\", \"x56\", \"x17\", \"x52\", \"x31\", \"x52\", \"x08\", \"x56\", \"x57\", \"x02\", \"x26\", \"x02\", \"x50\", \"x47\"],\n",
    "    \"ZP4\": [\"x50\", \"x02\", \"x31\", \"x05\", \"x31\", \"x16\", \"x57\", \"x12\", \"x09\", \"x00\", \"x30\", \"x18\", \"x56\", \"x47\", \"x09\", \"x31\", \"x37\", \"x00\", \"x17\", \"x09\", \"x06\", \"x39\", \"x17\", \"x05\", \"x09\", \"x57\", \"x39\", \"x07\", \"x31\", \"x42\", \"x31\", \"x42\", \"x39\", \"x26\", \"x00\", \"x31\", \"x47\", \"x06\", \"x42\", \"x06\", \"x17\", \"x02\", \"x30\", \"x37\", \"x02\", \"x23\", \"x00\", \"x56\", \"x17\", \"x00\", \"x47\", \"x56\", \"x47\", \"x52\", \"x50\", \"x36\", \"x52\", \"x06\"],\n",
    "    \"ZP5\": [\"x57\", \"x56\", \"x31\", \"x56\", \"x23\", \"x06\", \"x31\", \"x12\", \"x30\", \"x47\", \"x30\", \"x61\", \"x17\", \"x56\", \"x09\", \"x50\", \"x01\", \"x17\", \"x26\", \"x53\", \"x39\", \"x06\", \"x40\", \"x01\", \"x50\", \"x31\", \"x50\", \"x42\", \"x41\", \"x36\", \"x23\", \"x39\", \"x30\", \"x37\", \"x31\", \"x26\", \"x05\", \"x56\", \"x00\", \"x57\", \"x56\", \"x01\", \"x42\", \"x06\", \"x56\", \"x50\", \"x00\", \"x31\", \"x50\", \"x31\", \"x52\", \"x31\", \"x56\", \"x23\", \"x17\", \"x01\", \"x31\"],\n",
    "    \"ZP6\": [\"x30\", \"x42\", \"x26\", \"x50\", \"x36\", \"x43\", \"x56\", \"x31\", \"x57\", \"x06\", \"x23\", \"x44\", \"x40\", \"x56\", \"x50\", \"x23\", \"x12\", \"x57\", \"x01\", \"x39\", \"x12\", \"x36\", \"x06\", \"x57\", \"x56\", \"x50\", \"x12\", \"x52\", \"x01\", \"x17\", \"x26\", \"x00\", \"x37\", \"x47\", \"x17\", \"x47\", \"x37\", \"x50\", \"x30\", \"x17\", \"x26\", \"x56\", \"x36\", \"x42\", \"x56\", \"x31\", \"x41\", \"x47\", \"x00\", \"x01\", \"x08\", \"x30\", \"x31\", \"x41\", \"x31\", \"x50\"],\n",
    "    \"ZP7\": [\"x33\", \"x06\", \"x52\", \"x50\", \"x30\", \"x37\", \"x02\", \"x31\", \"x23\", \"x09\", \"x31\", \"x26\", \"x00\", \"x26\", \"x56\", \"x37\", \"x01\", \"x08\", \"x47\", \"x50\", \"x39\", \"x56\", \"x02\", \"x05\", \"x50\", \"x56\", \"x57\", \"x61\", \"x18\", \"x56\", \"x40\", \"x52\", \"x31\", \"x42\", \"x31\", \"x52\", \"x57\", \"x00\", \"x06\", \"x16\", \"x17\", \"x01\", \"x23\", \"x57\", \"x17\", \"x18\", \"x31\", \"x00\", \"x01\", \"x42\", \"x00\", \"x26\", \"x23\", \"x47\"]\n",
    "}\n",
    "\n",
    "# Výběr sektoru pro dekódování\n",
    "sector_name = \"KM39020\"  # Zde můžeš změnit sektor\n",
    "sector_data = codebook.get(sector_name, {})\n",
    "\n",
    "# Dekódování všech bloků\n",
    "decrypted_texts = {block: decrypt_sector(data, sector_data) for block, data in encrypted_blocks.items()}\n",
    "\n",
    "# Výpis výsledků\n",
    "for block, text in decrypted_texts.items():\n",
    "    print(f\"{block}: {text}\")\n"
   ]
  },
  {
   "cell_type": "code",
   "execution_count": 8,
   "metadata": {},
   "outputs": [
    {
     "data": {
      "text/plain": [
       "['AQ0: tmfjewobbqbubbbdwfpnkjyufgbyupzobnyjamoynuspnpbufouvstpijgof \\n AQ1: dpmmbpjsujbtyompfultjvybfvfyfeomooyoenlyujceopqodkpbosbfflfb \\n AQ2: zo0zyponly0uyofvsysfdjyuutqywbbpfsytvwjyszyzbkeyiqewjcyosyol \\n AQ3: ukqoaojomfpjcvmjjmldbqjcbjkbzfseufopodfswbsbomotdfdbbouiwibp \\n AQ4: bifefhuvkjnooopkfmjtkzytekuymmflflywjfpzlztinmiqjotjpopdbcdz \\n AQ5: uofoqzfvnpnfftokbstwssyzppsbfblacqynmfweojuoslzobjfbfdfoqtsf \\n AQ6: nlwbcuuofuzqjjppobqvusyvczuobvdstwjmptpmbntwoclofapjsbbnfafb \\n AQ7: ttzdbnmifqkfwjwomsbbpbyoiebouffoooppdflfdujzhtsqutoofjsljwqp',\n",
       " 'BR0: ungkfxpccrcvcccexgqolkzvghczvqapcozkbnpzovtqoqcvgpvwtuqjkhpg \\n BR1: eqnncqktvkcuzpnqgvmukwzcgwgzgfpnppzpfomzvkdfpqrpelqcptcggmgc \\n BR2: ap0azqpomz0vzpgwtztgekzvvurzxccqgtzuwxkztazaclfzjrfxkdzptzpm \\n BR3: vlrpbpkpngqkdwnkknmecrkdcklcagtfvgpqpegtxctcpnpuegeccpvjxjcq \\n BR4: cjgfgivwlkopppqlgnkulazuflvznngmgmzxkgqamaujonjrkpukqpqecdea \\n BR5: vpgpragwoqogguplctuxttzaqqtcgcmbdrzongxfpkvptmapckgcgegprutg \\n BR6: omxcdvvpgvarkkqqpcrwvtzwdavpcwetuxknquqncouxpdmpgbqktccogbgc \\n BR7: uuaeconjgrlgxkxpntccqczpjfcpvggpppqqegmgevkaiutrvuppgktmkxrq',\n",
       " 'CS0: vohlgyqddsdwdddfyhrpmlawhidawrbqdpalcoqapwurprdwhqwxuvrkliqh \\n CS1: froodrluwldvaqorhwnvlxadhxhahgqoqqaqgpnawlegqrsqfmrdqudhhnhd \\n CS2: bq0barqpna0waqhxuauhflawwvsayddrhuavxylaubabdmgaksgyleaquaqn \\n CS3: wmsqcqlqohrlexollonfdsledlmdbhugwhqrqfhuydudqoqvfhfddqwkykdr \\n CS4: dkhghjwxmlpqqqrmholvmbavgmwaoohnhnaylhrbnbvkpokslqvlrqrfdefb \\n CS5: wqhqsbhxprphhvqmduvyuuabrrudhdncesapohygqlwqunbqdlhdhfhqsvuh \\n CS6: pnydewwqhwbsllrrqdsxwuaxebwqdxfuvylorvrodpvyqenqhcrluddphchd \\n CS7: vvbfdpokhsmhylyqouddrdaqkgdqwhhqqqrrfhnhfwlbjvuswvqqhlunlysr',\n",
       " 'DT0: wpimhzreetexeeegzisqnmbxijebxscreqbmdprbqxvsqsexirxyvwslmjri \\n DT1: gsppesmvxmewbrpsixowmybeiyibihrprrbrhqobxmfhrstrgnserveiioie \\n DT2: cr0cbsrqob0xbriyvbvigmbxxwtbzeesivbwyzmbvcbcenhblthzmfbrvbro \\n DT3: xntrdrmrpismfypmmpogetmfemnecivhxirsrgivzeverprwgigeerxlzles \\n DT4: elihikxynmqrrrsnipmwncbwhnxbppioiobzmiscocwlqpltmrwmsrsgefgc \\n DT5: xrirtciyqsqiiwrnevwzvvbcssveieodftbqpizhrmxrvocremieigirtwvi \\n DT6: qozefxxrixctmmssretyxvbyfcxreygvwzmpswspeqwzrforidsmveeqidie \\n DT7: wwcgeqplitnizmzrpveesebrlherxiirrrssgioigxmckwvtxwrrimvomzts',\n",
       " 'EU0: xqjniasffufyfffhajtroncyjkfcytdsfrcneqscrywtrtfyjsyzwxtmnksj \\n EU1: htqqftnwynfxcsqtjypxnzcfjzjcjisqsscsirpcyngistushotfswfjjpjf \\n EU2: ds0dctsrpc0ycsjzwcwjhncyyxucafftjwcxzancwdcdfoicmuiangcswcsp \\n EU3: yousesnsqjtngzqnnqphfungfnofdjwiyjstshjwafwfsqsxhjhffsymamft \\n EU4: fmjijlyzonrssstojqnxodcxioycqqjpjpcanjtdpdxmrqmunsxntsthfghd \\n EU5: ysjsudjzrtrjjxsofwxawwcdttwfjfpegucrqjaisnyswpdsfnjfjhjsuxwj \\n EU6: rpafgyysjydunnttsfuzywczgdysfzhwxanqtxtqfrxasgpsjetnwffrjejf \\n EU7: xxdhfrqmjuojanasqwfftfcsmifsyjjssstthjpjhyndlxwuyxssjnwpnaut',\n",
       " 'FV0: yrkojbtggvgzgggibkuspodzklgdzuetgsdofrtdszxusugzktzaxyunoltk \\n FV1: iurrguoxzogydtrukzqyoadgkakdkjtrttdtjsqdzohjtuvtipugtxgkkqkg \\n FV2: et0edutsqd0zdtkaxdxkiodzzyvdbggukxdyabodxedegpjdnvjbohdtxdtq \\n FV3: zpvtftotrkuoharoorqigvohgopgekxjzktutikxbgxgtrtyikiggtznbngu \\n FV4: gnkjkmzapostttupkroypedyjpzdrrkqkqdbokueqeynsrnvotyoutuighie \\n FV5: ztktvekasuskkytpgxybxxdeuuxgkgqfhvdsrkbjtoztxqetgokgkiktvyxk \\n FV6: sqbghzztkzevoouutgvazxdaheztgaixyboruyurgsybthqtkfuoxggskfkg \\n FV7: yyeigsrnkvpkbobtrxggugdtnjgtzkktttuuikqkizoemyxvzyttkoxqobvu',\n",
       " 'GW0: zslpkcuhhwhahhhjclvtqpealmheavfuhtepgsuetayvtvhaluabyzvopmul \\n GW1: jvsshvpyaphzeusvlarzpbehlblelkusuueuktreapikuvwujqvhuyhllrlh \\n GW2: fu0fevutre0aeulbyeyljpeaazwechhvlyezbcpeyfefhqkeowkcpieuyeur \\n GW3: aqwugupuslvpibsppsrjhwpihpqhflykaluvujlychyhusuzjljhhuaocohv \\n GW4: holklnabqptuuuvqlspzqfezkqaesslrlrecplvfrfzotsowpuzpvuvjhijf \\n GW5: auluwflbtvtllzuqhyzcyyefvvyhlhrgiwetslckupauyrfuhplhljluwzyl \\n GW6: trchiaaulafwppvvuhwbayebifauhbjyzcpsvzvshtzcuirulgvpyhhtlglh \\n GW7: zzfjhtsolwqlcpcusyhhvheuokhualluuuvvjlrljapfnzywazuulpyrpcwv',\n",
       " 'HX0: atmqldviixibiiikdmwurqfbmnifbwgviufqhtvfubzwuwibmvbczawpqnvm \\n HX1: kwttiwqzbqiafvtwmbsaqcfimcmfmlvtvvfvlusfbqjlvwxvkrwivzimmsmi \\n HX2: gv0gfwvusf0bfvmczfzmkqfbbaxfdiiwmzfacdqfzgfgirlfpxldqjfvzfvs \\n HX3: brxvhvqvtmwqjctqqtskixqjiqrigmzlbmvwvkmzdizivtvakmkiivbpdpiw \\n HX4: ipmlmobcrquvvvwrmtqargfalrbfttmsmsfdqmwgsgaputpxqvaqwvwkijkg \\n HX5: bvmvxgmcuwummavrizadzzfgwwzimishjxfutmdlvqbvzsgviqmimkmvxazm \\n HX6: usdijbbvmbgxqqwwvixcbzfcjgbvickzadqtwawtiuadvjsvmhwqziiumhmi \\n HX7: aagkiutpmxrmdqdvtziiwifvplivbmmvvvwwkmsmkbqgoazxbavvmqzsqdxw',\n",
       " 'IY0: bunrmewjjyjcjjjlenxvsrgcnojgcxhwjvgriuwgvcaxvxjcnwcdabxqrown \\n IY1: lxuujxracrjbgwuxnctbrdgjndngnmwuwwgwmvtgcrkmwxywlsxjwajnntnj \\n IY2: hw0hgxwvtg0cgwndaganlrgccbygejjxnagbdergahghjsmgqymerkgwagwt \\n IY3: csywiwrwunxrkdurrutljyrkjrsjhnamcnwxwlnaejajwuwblnljjwcqeqjx \\n IY4: jqnmnpcdsrvwwwxsnurbshgbmscguuntntgernxhthbqvuqyrwbrxwxljklh \\n IY5: cwnwyhndvxvnnbwsjabeaaghxxajnjtikygvunemwrcwathwjrnjnlnwyban \\n IY6: vtejkccwnchyrrxxwjydcagdkhcwjdlaberuxbxujvbewktwnixrajjvninj \\n IY7: bbhljvuqnysnerewuajjxjgwqmjwcnnwwwxxlntnlcrhpbaycbwwnratreyx',\n",
       " 'JZ0: cvosnfxkkzkdkkkmfoywtshdopkhdyixkwhsjvxhwdbywykdoxdebcyrspxo \\n JZ1: myvvkysbdskchxvyoducsehkoeohonxvxxhxnwuhdslnxyzxmtykxbkoouok \\n JZ2: ix0ihyxwuh0dhxoebhbomshddczhfkkyobhcefshbihiktnhrznfslhxbhxu \\n JZ3: dtzxjxsxvoyslevssvumkzslkstkiobndoxyxmobfkbkxvxcmomkkxdrfrky \\n JZ4: kronoqdetswxxxytovsctihcntdhvvououhfsoyiuicrwvrzsxcsyxymklmi \\n JZ5: dxoxzioewywoocxtkbcfbbhiyybkokujlzhwvofnxsdxbuixksokomoxzcbo \\n JZ6: wufklddxodizssyyxkzedbhelidxkembcfsvycyvkwcfxluxojysbkkwojok \\n JZ7: ccimkwvroztofsfxvbkkykhxrnkxdooxxxyymouomdsiqcbzdcxxosbusfzy',\n",
       " 'KA0: dwptogyllalelllngpzxutiepqliezjylxitkwyixeczxzlepyefcdzstqyp \\n KA1: nzwwlztcetldiywzpevdtfilpfpipoywyyiyoxvietmoyzaynuzlyclppvpl \\n KA2: jy0jizyxvi0eiypfcicpntieedaigllzpcidfgticjijluoisaogtmiyciyv \\n KA3: euaykytywpztmfwttwvnlatmltuljpcoepyzynpcglclywydnpnllyesgslz \\n KA4: lspoprefutxyyyzupwtdujidoueiwwpvpvigtpzjvjdsxwsatydtzyznlmnj \\n KA5: eypyajpfxzxppdyulcdgccijzzclplvkmaixwpgoyteycvjyltplpnpyadcp \\n KA6: xvglmeeypejattzzylafecifmjeylfncdgtwzdzwlxdgymvypkztcllxpkpl \\n KA7: ddjnlxwspaupgtgywcllzliysolyeppyyyzznpvpnetjrdcaedyyptcvtgaz',\n",
       " 'LB0: exquphzmmbmfmmmohqayvujfqrmjfakzmyjulxzjyfdayamfqzfgdeaturzq \\n LB1: oaxxmaudfumejzxaqfweugjmqgqjqpzxzzjzpywjfunpzabzovamzdmqqwqm \\n LB2: kz0kjazywj0fjzqgdjdqoujffebjhmmaqdjeghujdkjkmvpjtbphunjzdjzw \\n LB3: fvbzlzuzxqaungxuuxwombunmuvmkqdpfqzazoqdhmdmzxzeoqommzfthtma \\n LB4: mtqpqsfgvuyzzzavqxuevkjepvfjxxqwqwjhuqakwketyxtbuzeuazaomnok \\n LB5: fzqzbkqgyayqqezvmdehddjkaadmqmwlnbjyxqhpzufzdwkzmuqmqoqzbedq \\n LB6: ywhmnffzqfkbuuaazmbgfdjgnkfzmgodehuxaeaxmyehznwzqlaudmmyqlqm \\n LB7: eekomyxtqbvqhuhzxdmmamjztpmzfqqzzzaaoqwqofuksedbfezzqudwuhba',\n",
       " 'MC0: fyrvqianncngnnnpirbzwvkgrsnkgblanzkvmyakzgebzbngraghefbuvsar \\n MC1: pbyynbvegvnfkaybrgxfvhknrhrkrqayaakaqzxkgvoqabcapwbnaenrrxrn \\n MC2: la0lkbazxk0gkarhekerpvkggfckinnbrekfhivkelklnwqkucqivokaekax \\n MC3: gwcamavayrbvohyvvyxpncvonvwnlreqgrabapreinenayafprpnnaguiunb \\n MC4: nurqrtghwvzaaabwryvfwlkfqwgkyyrxrxkivrblxlfuzyucvafvbabpnopl \\n MC5: garaclrhzbzrrfawnefieeklbbenrnxmockzyriqavgaexlanvrnrpracfer \\n MC6: zxinoggarglcvvbbanchgekholganhpefivybfbynzfiaoxarmbvennzrmrn \\n MC7: fflpnzyurcwriviayennbnkauqnagrraaabbprxrpgvltfecgfaarvexvicb',\n",
       " 'ND0: gzswrjboodohoooqjscaxwlhstolhcmboalwnzblahfcacohsbhifgcvwtbs \\n ND1: qczzocwfhwoglbzcshygwilosislsrbzbblbraylhwprbcdbqxcobfossyso \\n ND2: mb0mlcbayl0hlbsiflfsqwlhhgdljoocsflgijwlfmlmoxrlvdrjwplbflby \\n ND3: hxdbnbwbzscwpizwwzyqodwpowxomsfrhsbcbqsfjofobzbgqsqoobhvjvoc \\n ND4: ovsrsuhixwabbbcxszwgxmlgrxhlzzsysyljwscmymgvazvdwbgwcbcqopqm \\n ND5: hbsbdmsiacassgbxofgjfflmccfosoynpdlazsjrbwhbfymbowsosqsbdgfs \\n ND6: ayjophhbshmdwwccbodihflipmhboiqfgjwzcgczoagjbpybsncwfooasnso \\n ND7: ggmqoazvsdxsjwjbzfoocolbvrobhssbbbccqsysqhwmugfdhgbbswfywjdc',\n",
       " 'OE0: hatxskcppepippprktdbyxmitupmidncpbmxoacmbigdbdpitcijghdwxuct \\n OE1: rdaapdxgixphmcadtizhxjmptjtmtscaccmcsbzmixqscdecrydpcgpttztp \\n OE2: nc0nmdcbzm0imctjgmgtrxmiihemkppdtgmhjkxmgnmnpysmweskxqmcgmcz \\n OE3: iyecocxcatdxqjaxxazrpexqpxypntgsitcdcrtgkpgpcachrtrppciwkwpd \\n OE4: pwtstvijyxbcccdytaxhynmhsyimaatztzmkxtdnznhwbawexchxdcdrpqrn \\n OE5: ictcentjbdbtthcypghkggmnddgptpzoqembatkscxicgzncpxtptrtcehgt \\n OE6: bzkpqiictinexxddcpejigmjqnicpjrghkxadhdapbhkcqzctodxgppbtotp \\n OE7: hhnrpbawteytkxkcagppdpmcwspcittcccddrtztrixnvhgeihcctxgzxked',\n",
       " 'PF0: ibuytldqqfqjqqqslueczynjuvqnjeodqcnypbdncjheceqjudjkhiexyvdu \\n PF1: sebbqeyhjyqindbeujaiyknqukunutdbddndtcanjyrtdefdszeqdhquuauq \\n PF2: od0onedcan0jndukhnhusynjjifnlqqeuhniklynhonoqztnxftlyrndhnda \\n PF3: jzfdpdydbueyrkbyybasqfyrqyzqouhtjudedsuhlqhqdbdisusqqdjxlxqe \\n PF4: qxutuwjkzycdddezubyizonitzjnbbuauanlyueoaoixcbxfydiyedesqrso \\n PF5: jdudfoukcecuuidzqhilhhnoeehquqaprfncbultdyjdhaodqyuqusudfihu \\n PF6: calqrjjdujofyyeedqfkjhnkrojdqkshilybeiebqcildradupeyhqqcupuq \\n PF7: iiosqcbxufzulyldbhqqeqndxtqdjuudddeesuausjyowihfjidduyhaylfe',\n",
       " 'QG0: jcvzumerrgrkrrrtmvfdazokvwrokfperdozqceodkifdfrkveklijfyzwev \\n QG1: tfccrfzikzrjoecfvkbjzlorvlvovueceeoeudbokzsuefgetafreirvvbvr \\n QG2: pe0pofedbo0koevlioivtzokkjgomrrfviojlmzoipoprauoygumzsoeioeb \\n QG3: kageqezecvfzslczzcbtrgzsrzarpviukvefetvimrirecejtvtrrekymyrf \\n QG4: ryvuvxklazdeeefavczjapojuakoccvbvbomzvfpbpjydcygzejzfeftrstp \\n QG5: kevegpvldfdvvjearijmiiopffirvrbqsgodcvmuezkeibperzvrvtvegjiv \\n QG6: dbmrskkevkpgzzfferglkiolspkerltijmzcfjfcrdjmesbevqfzirrdvqvr \\n QG7: jjptrdcyvgavmzmecirrfroeyurekvveeefftvbvtkzpxjigkjeevzibzmgf',\n",
       " 'RH0: kdwavnfsshslsssunwgebaplwxsplgqfsepardfpeljgegslwflmjkgzaxfw \\n RH1: ugddsgajlaskpfdgwlckampswmwpwvfdffpfvecplatvfghfubgsfjswwcws \\n RH2: qf0qpgfecp0lpfwmjpjwuapllkhpnssgwjpkmnapjqpqsbvpzhvnatpfjpfc \\n RH3: lbhfrfafdwgatmdaadcushatsabsqwjvlwfgfuwjnsjsfdfkuwussflznzsg \\n RH4: szwvwylmbaefffgbwdakbqpkvblpddwcwcpnawgqcqkzedzhafkagfgustuq \\n RH5: lfwfhqwmegewwkfbsjknjjpqggjswscrthpedwnvfalfjcqfsawswuwfhkjw \\n RH6: ecnstllfwlqhaaggfshmljpmtqlfsmujknadgkgdseknftcfwrgajssewrws \\n RH7: kkqusedzwhbwnanfdjssgspfzvsflwwfffgguwcwulaqykjhlkffwajcanhg',\n",
       " 'SI0: lexbwogttitmtttvoxhfcbqmxytqmhrgtfqbsegqfmkhfhtmxgmnklhabygx \\n SI1: vheethbkmbtlqgehxmdlbnqtxnxqxwgeggqgwfdqmbuwghigvchtgktxxdxt \\n SI2: rg0rqhgfdq0mqgxnkqkxvbqmmliqotthxkqlnobqkrqrtcwqaiwobuqgkqgd \\n SI3: mcigsgbgexhbunebbedvtibutbctrxkwmxghgvxkotktgeglvxvttgmaoath \\n SI4: taxwxzmncbfggghcxeblcrqlwcmqeexdxdqobxhrdrlafeaibglbhghvtuvr \\n SI5: mgxgirxnfhfxxlgctklokkqrhhktxtdsuiqfexowgbmgkdrgtbxtxvxgilkx \\n SI6: fdotummgxmribbhhgtinmkqnurmgtnvklobehlhetflogudgxshbkttfxsxt \\n SI7: llrvtfeaxicxobogektthtqgawtgmxxggghhvxdxvmbrzlkimlggxbkdboih',\n",
       " 'TJ0: mfycxphuujunuuuwpyigdcrnyzurnishugrctfhrgnligiunyhnolmibczhy \\n TJ1: wiffuiclncumrhfiynemcoruyoyryxhfhhrhxgerncvxhijhwdiuhluyyeyu \\n TJ2: sh0srihger0nrhyolrlywcrnnmjrpuuiylrmopcrlsrsudxrbjxpcvrhlrhe \\n TJ3: ndjhthchfyicvofccfewujcvucdusylxnyhihwylpuluhfhmwywuuhnbpbui \\n TJ4: ubyxyanodcghhhidyfcmdsrmxdnrffyeyerpcyisesmbgfbjchmcihiwuvws \\n TJ5: nhyhjsyogigyymhdulmpllrsiiluyuetvjrgfypxhcnhleshucyuywyhjmly \\n TJ6: gepuvnnhynsjcciihujonlrovsnhuowlmpcfimifugmphvehyticluugytyu \\n TJ7: mmswugfbyjdypcphfluuiurhbxuhnyyhhhiiwyeywncsamljnmhhyclecpji',\n",
       " 'UK0: ngzdyqivvkvovvvxqzjhedsozavsojtivhsdugishomjhjvoziopmnjcdaiz \\n UK1: xjggvjdmodvnsigjzofndpsvzpzszyigiisiyhfsodwyijkixejvimvzzfzv \\n UK2: ti0tsjihfs0osizpmsmzxdsoonksqvvjzmsnpqdsmtstveysckyqdwsimsif \\n UK3: oekiuidigzjdwpgddgfxvkdwvdevtzmyozijixzmqvmviginxzxvviocqcvj \\n UK4: vczyzbopedhiiijezgdnetsnyeosggzfzfsqdzjtftnchgckdindjijxvwxt \\n UK5: oiziktzphjhzznievmnqmmstjjmvzvfuwkshgzqyidoimftivdzvzxziknmz \\n UK6: hfqvwooizotkddjjivkpomspwtoivpxmnqdgjnjgvhnqiwfizujdmvvhzuzv \\n UK7: nntxvhgczkezqdqigmvvjvsicyviozziiijjxzfzxodtbnmkoniizdmfdqkj',\n",
       " 'VL0: ohaezrjwwlwpwwwyrakifetpabwtpkujwitevhjtipnkikwpajpqnokdebja \\n VL1: ykhhwkenpewotjhkapgoeqtwaqatazjhjjtjzigtpexzjkljyfkwjnwaagaw \\n VL2: uj0utkjigt0ptjaqntnayetppoltrwwkantoqretnutuwfztdlzrextjntjg \\n VL3: pfljvjejhakexqheehgywlexwefwuanzpajkjyanrwnwjhjoyaywwjpdrdwk \\n VL4: wdazacpqfeijjjkfaheofutozfpthhagagtreakuguodihdlejoekjkywxyu \\n VL5: pjajluaqikiaaojfwnornntukknwawgvxltiharzjepjngujweawayajlona \\n VL6: igrwxppjapuleekkjwlqpntqxupjwqynorehkokhwiorjxgjavkenwwiavaw \\n VL7: oouywihdalfarerjhnwwkwtjdzwjpaajjjkkyagaypeuconlpojjaengerlk',\n",
       " 'WM0: pibfaskxxmxqxxxzsbljgfuqbcxuqlvkxjufwikujqoljlxqbkqroplefckb \\n WM1: zliixlfoqfxpukilbqhpfruxbrbubakikkukajhuqfyaklmkzglxkoxbbhbx \\n WM2: vk0vulkjhu0qukbrouobzfuqqpmusxxlbouprsfuovuvxgauemasfyukoukh \\n WM3: qgmkwkfkiblfyriffihzxmfyxfgxvboaqbklkzbosxoxkikpzbzxxkqesexl \\n WM4: xebabdqrgfjkkklgbifpgvupagquiibhbhusfblvhvpejiemfkpflklzxyzv \\n WM5: qkbkmvbrjljbbpkgxopsoouvlloxbxhwymujibsakfqkohvkxfbxbzbkmpob \\n WM6: jhsxyqqkbqvmffllkxmrqouryvqkxrzopsfilplixjpskyhkbwlfoxxjbwbx \\n WM7: ppvzxjiebmgbsfskioxxlxukeaxkqbbkkkllzbhbzqfvdpomqpkkbfohfsml',\n",
       " 'XN0: qjcgbtlyynyryyyatcmkhgvrcdyvrmwlykvgxjlvkrpmkmyrclrspqmfgdlc \\n XN1: amjjymgprgyqvljmcriqgsvycscvcbljllvlbkivrgzblmnlahmylpyccicy \\n XN2: wl0wvmlkiv0rvlcspvpcagvrrqnvtyymcpvqstgvpwvwyhbvfnbtgzvlpvli \\n XN3: rhnlxlgljcmgzsjggjiayngzyghywcpbrclmlacptypyljlqacayylrftfym \\n XN4: yfcbcershgklllmhcjgqhwvqbhrvjjcicivtgcmwiwqfkjfnglqgmlmayzaw \\n XN5: rlclnwcskmkccqlhypqtppvwmmpycyixznvkjctblgrlpiwlygcycaclnqpc \\n XN6: kityzrrlcrwnggmmlynsrpvszwrlysapqtgjmqmjykqtlzilcxmgpyykcxcy \\n XN7: qqwaykjfcnhctgtljpyymyvlfbylrcclllmmacicargweqpnrqllcgpigtnm',\n",
       " 'YO0: rkdhcumzzozszzzbudnlihwsdezwsnxmzlwhykmwlsqnlnzsdmstqrnghemd \\n YO1: bnkkznhqshzrwmkndsjrhtwzdtdwdcmkmmwmcljwshacmnombinzmqzddjdz \\n YO2: xm0xwnmljw0swmdtqwqdbhwssrowuzzndqwrtuhwqxwxzicwgocuhawmqwmj \\n YO3: siomymhmkdnhatkhhkjbzohazhizxdqcsdmnmbdquzqzmkmrbdbzzmsgugzn \\n YO4: zgdcdfstihlmmmnidkhrixwrciswkkdjdjwuhdnxjxrglkgohmrhnmnbzabx \\n YO5: smdmoxdtlnlddrmizqruqqwxnnqzdzjyaowlkducmhsmqjxmzhdzdbdmorqd \\n YO6: ljuzassmdsxohhnnmzotsqwtaxsmztbqruhknrnkzlrumajmdynhqzzldydz \\n YO7: rrxbzlkgdoiduhumkqzznzwmgczmsddmmmnnbdjdbshxfrqosrmmdhqjhuon']"
      ]
     },
     "execution_count": 8,
     "metadata": {},
     "output_type": "execute_result"
    }
   ],
   "source": [
    "import string\n",
    "\n",
    "# Funkce pro Caesarovu šifru s posunem\n",
    "def caesar_cipher(text, shift):\n",
    "    result = ''\n",
    "    for char in text:\n",
    "        if char.isalpha():  # Posouvat pouze písmena\n",
    "            start = ord('a') if char.islower() else ord('A')\n",
    "            result += chr(start + (ord(char) - start + shift) % 26)\n",
    "        else:\n",
    "            result += char  # Nezpracovávat jiné znaky\n",
    "    return result\n",
    "\n",
    "# Zkoušíme Caesarovu šifru pro různé posuny\n",
    "text = \"ZP0: sleidvnaapataaacveomjixtefaxtoynamxizlnxmtromoatentursohifne \\n ZP1: collaoirtiasxnloetksiuxaeuexednlnnxndmkxtibdnopncjoanraeekea \\n ZP2: yn0yxonmkx0txneurxrecixttspxvaaoerxsuvixryxyajdxhpdvibxnrxnk \\n ZP3: tjpnzninleoibuliilkcapibaijayerdtenoncervaranlnscecaanthvhao \\n ZP4: ahedegtujimnnnojelisjyxsdjtxllekekxvieoykyshmlhpinsionocabcy \\n ZP5: tnenpyeumomeesnjarsvrrxyooraeakzbpxmlevdnitnrkynaieaecenpsre \\n ZP6: mkvabttnetypiioonaputrxubytnaucrsvilosolamsvnbknezoiraamezea \\n ZP7: ssycamlhepjevivnlraaoaxnhdanteennnoocekectiygsrptsnneirkivpo\"\n",
    "shifts = list(range(1, 26))  # Posuny od 1 do 25\n",
    "caesar_results = [caesar_cipher(text, shift) for shift in shifts]\n",
    "\n",
    "# Vygenerujme výsledky pro každý posun\n",
    "caesar_results\n"
   ]
  },
  {
   "cell_type": "code",
   "execution_count": 9,
   "metadata": {},
   "outputs": [
    {
     "data": {
      "text/plain": [
       "['ZlntvianztauiPlrxtxxnmbnnk2yknrtvriyhbn:zelcaenrnetoagmjjjevklscZneearrzliyapPvniaxnsssnrz7ceiantnkytipPeaaexxalrtrf1ltnkaenkdcre:xxeetaxxapxktnoiairovlchZhtneytkiyhiaPeuerxabetnes6aeipuavoveae:apvaheoegsro0iaaottmnoesn:ailsedxxnjaayo0ucsasrjdnZjiiipjdnanavPeunlxxeespob5nmssyepvnacr:btoubuilnzaasmjnodeocsnk:dpameoxxmnoecoaoiunntooeZnntripouydvrPpnbliatcrsah4djnislkohinc:ponvoaxdrieemtyotyclabomZslelaanctrnisvacjfyimothZoiseueldipaeP0mxxxxevxxix3nlukbyeeacna:eiosdlxymnoytymjrokmnkenZktpnrtromkiePyhvrxnneipev',\n",
       " 'Zeaajaanmti1aaexextpneynxrtauxhxZpllajtencv4emexlxkhocteesokltaeZveottsonoe7ajlxtocrepPipcixmxouf:ostadninranmnesovypnPneipaerlah:gnlslvypnynusvozeninPatornvlbiz:merneotpio0davxtxmarncixkendbcaZ0kecpeiadr3zoiiynvnaaatnideisioZemnrrbvrep6bynxaiakreslvahecitr:vtetoittseornsulmdjePyxuixrxjvx:nilbeoasnohunsjkehncPnojrapdkas:tpauulmnaashiadneysksnaoeyzreoZltlienknoe2x0rxvxrdintibkarnrctZejojteomsa5pmaxexnyermtipbcoseaZyevoankgnilaamfnlonhPliouxnxoak:otxtasyxbkjnucidcaehPdijyxkylib:yeryamincekniuyrsvzmPcpnannesnv',\n",
       " 'Ziaeennorelieanmnaenkuxauydxtnlpyorev:tnjxxyic5yevrpnnePbppyslkaZcjrhnkseoPdtofaxasZlatelkona0xrtavavnjliienachauoylvsna:esraxian6tiutvanaPaeadneri0vamammtoPaskunxprZy0xtoijikpeibrcnaahjjxlihsbtunremtip:titnimem7mvaancpr:najxxteh1oxsentnaPxtrsexdbZnoladelaoeieseemicnmjxalnesmnoralsze:lionottksaaitirni:inixxice2oxeprrxxPzikitrnnZdmldkoloyeoaykerarkeoxuovozshvatoisilacxozotfcrluenbje:nncxxyhn3nbcjevstPenijeyhnZnmrozvkeevtnucsniesenxecynvepvtylmunotoxdddokymeivsxpr:iuaanach4gnstkkpoPpesobdycZayabrobrayplneegnp',\n",
       " 'ZdajtzmrZaxiednnZxxcvuaiZzbaynnaZenjlimoZperelreZbitaonrZavotcgePvaiolosPonudmorPoniavjbPnupeclnPgnylelnPysraekcPtirusbaPmiaeesi0naxynao1ilxnkpa2nexaidx3ilirent4toxeoho5enxkvye6toxcoka7lvxekrr:actnxth:roalxne:mutoxxn:nibdrsh:ujskypc:ujyzdnn:nourlnm:hnnnepksaveameicteentceykrterhrtliatvcvajedekiatmaobnapmenbsaeeselhnctilpefmtnfoitunijknxxsrypxjelieaehhiljkynbnoropiisktayvmzzsprdntsveaoaxrtnlakexboe00rpxxdnpokjnrcaemitxsscemsrxtervyptisoeyjaaoinpitmxiouelssxndaaytexsyvknicaoaaodnsxvhiynevamnaeapunlviaceanoyno',\n",
       " 'Zvatatteanxltjeyxiaxhxpiaeesvhmslehctosalke:eatlna7hldoyePncemruZolanioaxnxorpnnbprrchenjlopanmveeynmtpnoba:eraogi0avfxorPioenbaZoeteydkzuidveadnyeyibeeravnpkyuaskmspancsr:aeaims1reuxdnPnutrxvZnlbtacoenxkkncnerkdasvptuonesjaterkspoxzoo:ttennr2mrsxyiPiiaeraZgoseysypsxznirairclezyeoekpilamtlahcikxdoa:kxpsab3niinaaPtjdksiZynybieebixrazecvaeetvetjontioasempeyxrxujx:lljonn4uejxhoPejoptaZtousmoaaixncspiaiyxeflsidknen0evvdntekanlt:jltvmn5uaoxnePtobvsiZmvnntnodaxnmnnlxunxck0tcaixrjocycnhaiixilo:mrrmrc6nnyivrPlnhnin']"
      ]
     },
     "execution_count": 9,
     "metadata": {},
     "output_type": "execute_result"
    }
   ],
   "source": [
    "# Funkce pro jednoduchou transpoziční šifru\n",
    "def transpose_text(text, block_size):\n",
    "    # Odstraníme mezery a jiné znaky pro čistší transpozici\n",
    "    clean_text = ''.join(text.split())\n",
    "    \n",
    "    # Vytvoření transpoziční tabulky\n",
    "    transposed = ['' for _ in range(block_size)]\n",
    "    \n",
    "    for i, char in enumerate(clean_text):\n",
    "        transposed[i % block_size] += char\n",
    "    \n",
    "    # Spojení výsledků do jednoho textu\n",
    "    return ''.join(transposed)\n",
    "\n",
    "# Zkusíme několik různých velikostí bloků pro transpozici\n",
    "block_sizes = [5, 6, 7, 8, 9]\n",
    "transposed_results = [transpose_text(text, block_size) for block_size in block_sizes]\n",
    "\n",
    "transposed_results  # Zobrazíme výsledky pro různé bloky\n"
   ]
  },
  {
   "cell_type": "code",
   "execution_count": 10,
   "metadata": {},
   "outputs": [
    {
     "data": {
      "text/plain": [
       "[('n', 51),\n",
       " ('e', 47),\n",
       " ('a', 45),\n",
       " ('i', 32),\n",
       " ('o', 31),\n",
       " ('x', 28),\n",
       " ('t', 27),\n",
       " ('r', 24),\n",
       " ('p', 23),\n",
       " ('s', 21),\n",
       " ('l', 19),\n",
       " ('y', 17),\n",
       " ('v', 16),\n",
       " ('c', 15),\n",
       " ('m', 15),\n",
       " ('k', 15),\n",
       " ('z', 13),\n",
       " ('d', 11),\n",
       " ('j', 11),\n",
       " ('u', 11),\n",
       " ('h', 9),\n",
       " ('b', 9),\n",
       " ('f', 2),\n",
       " ('g', 2)]"
      ]
     },
     "execution_count": 10,
     "metadata": {},
     "output_type": "execute_result"
    }
   ],
   "source": [
    "from collections import Counter\n",
    "\n",
    "# Funkce pro frekvenční analýzu textu\n",
    "def frequency_analysis(text):\n",
    "    # Odstraníme všechny nežádoucí znaky a zaměříme se pouze na písmena\n",
    "    clean_text = ''.join(filter(str.isalpha, text.lower()))\n",
    "    # Spočítáme frekvence písmen\n",
    "    frequencies = Counter(clean_text)\n",
    "    # Seřadíme písmena podle frekvence\n",
    "    sorted_frequencies = sorted(frequencies.items(), key=lambda x: x[1], reverse=True)\n",
    "    return sorted_frequencies\n",
    "\n",
    "# Provádíme frekvenční analýzu na šifrovaném textu\n",
    "frequency_results = frequency_analysis(text)\n",
    "frequency_results  # Výsledky frekvenční analýzy\n"
   ]
  }
 ],
 "metadata": {
  "kernelspec": {
   "display_name": "Python 3",
   "language": "python",
   "name": "python3"
  },
  "language_info": {
   "codemirror_mode": {
    "name": "ipython",
    "version": 3
   },
   "file_extension": ".py",
   "mimetype": "text/x-python",
   "name": "python",
   "nbconvert_exporter": "python",
   "pygments_lexer": "ipython3",
   "version": "3.12.7"
  }
 },
 "nbformat": 4,
 "nbformat_minor": 2
}
